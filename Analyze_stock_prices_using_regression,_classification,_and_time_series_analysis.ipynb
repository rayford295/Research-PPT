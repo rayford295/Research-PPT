{
  "nbformat": 4,
  "nbformat_minor": 0,
  "metadata": {
    "colab": {
      "provenance": []
    },
    "kernelspec": {
      "name": "python3",
      "display_name": "Python 3"
    },
    "language_info": {
      "name": "python"
    }
  },
  "cells": [
    {
      "cell_type": "markdown",
      "source": [
        "Application of Logistic Regression in Stock Price Prediction"
      ],
      "metadata": {
        "id": "O9q3eFNcB3cH"
      }
    },
    {
      "cell_type": "code",
      "execution_count": null,
      "metadata": {
        "id": "1VNnBeggBf3A"
      },
      "outputs": [],
      "source": [
        "import numpy as np\n",
        "import pandas as pd\n",
        "from sklearn.model_selection import train_test_split\n",
        "from sklearn.linear_model import LogisticRegression\n",
        "from sklearn.metrics import classification_report, confusion_matrix\n",
        "\n",
        "# Load and prepare the data\n",
        "data = pd.read_csv('stock_data.csv')  # Assuming CSV file with relevant stock data\n",
        "features = ['previous_close', 'volume']  # Example features\n",
        "X = data[features]\n",
        "y = data['price_up']  # Binary target variable: 1 if price went up, 0 otherwise\n",
        "\n",
        "# Split the data into training and test sets\n",
        "X_train, X_test, y_train, y_test = train_test_tplit(X, y, test_size=0.3, random_state=42)\n",
        "\n",
        "# Initialize and train the logistic regression model\n",
        "model = LogisticRegression()\n",
        "model.fit(X_train, y_train)\n",
        "\n",
        "# Predict and evaluate the model\n",
        "predictions = model.predict(X_test)\n",
        "print(confusion_matrix(y_test, predictions))\n",
        "print(classification_report(y_test, predictions))"
      ]
    },
    {
      "cell_type": "markdown",
      "source": [
        "Application of Support Vector Machine (SVM) in Stock Price Prediction"
      ],
      "metadata": {
        "id": "Ub2q8DVLCZaV"
      }
    },
    {
      "cell_type": "code",
      "source": [
        "import numpy as np\n",
        "import pandas as pd\n",
        "from sklearn.model_selection import train_test_split\n",
        "from sklearn.svm import SVC\n",
        "from sklearn.metrics import classification_report, confusion_matrix\n",
        "\n",
        "# Load and prepare the data\n",
        "data = pd.read_csv('stock_data.csv')  # Assuming CSV file with relevant stock data\n",
        "features = ['previous_close', 'volume']  # Example features\n",
        "X = data[features]\n",
        "y = data['price_up']  # Binary target variable: 1 if price went up, 0 otherwise\n",
        "\n",
        "# Split the data into training and test sets\n",
        "X_train, X_test, y_train, y_test = train_test_split(X, y, test_size=0.3, random_state=42)\n",
        "\n",
        "# Initialize and train the SVM model\n",
        "model = SVC(kernel='linear')  # Using a linear kernel\n",
        "model.fit(X_train, y_train)\n",
        "\n",
        "# Predict and evaluate the model\n",
        "predictions = model.predict(X_test)\n",
        "print(confusion_matrix(y_test, predictions))\n",
        "print(classification_report(y_test, predictions))"
      ],
      "metadata": {
        "id": "nhdJnOsrCZ8n"
      },
      "execution_count": null,
      "outputs": []
    }
  ]
}